{
 "cells": [
  {
   "cell_type": "code",
   "execution_count": 1,
   "metadata": {},
   "outputs": [],
   "source": [
    "import numpy as np\n",
    "\n",
    "# transformation parameters\n",
    "theta = np.pi/6.0\n",
    "t = np.array([[0.2], [0.2]])\n",
    "\n",
    "# rotation matrix\n",
    "R = np.array([[np.cos(theta), -np.sin(theta)],\n",
    "              [np.sin(theta), np.cos(theta)]])\n",
    "X = np.array([[0, 0, 10], [0, 10, 0]])\n",
    "Y = np.dot(R, X) + t\n",
    "\n",
    "xLabels = [\"X1\", \"X2\", \"X3\"]\n",
    "yLabels = [\"Y1\", \"Y2\", \"Y3\"]"
   ]
  },
  {
   "cell_type": "code",
   "execution_count": 2,
   "metadata": {},
   "outputs": [
    {
     "data": {
      "text/plain": [
       "10"
      ]
     },
     "execution_count": 2,
     "metadata": {},
     "output_type": "execute_result"
    }
   ],
   "source": [
    "X[0][2]"
   ]
  },
  {
   "cell_type": "code",
   "execution_count": 4,
   "metadata": {},
   "outputs": [
    {
     "data": {
      "image/png": "[encoded data removed]",
      "text/plain": [
       "<Figure size 432x288 with 1 Axes>"
      ]
     },
     "metadata": {
      "needs_background": "light"
     },
     "output_type": "display_data"
    }
   ],
   "source": [
    "import matplotlib.pyplot as plt\n",
    "\n",
    "plt.plot(X[0], X[1])\n",
    "plt.plot(Y[0], Y[1])\n",
    "plt.show()"
   ]
  },
  {
   "cell_type": "code",
   "execution_count": 5,
   "metadata": {},
   "outputs": [],
   "source": [
    "import numpy as np\n",
    "\n",
    "def EStep(X, Y, sigma2):\n",
    "    M = Y.shape[0] # number of moving points\n",
    "    D = Y.shape[1] # dimensionality of moving points\n",
    "    N = X.shape[0] # number of fixed points\n",
    "    # Probability matrix: p_{ij} is the probability\n",
    "    # that moving point i corresponds to fixed point j\n",
    "    P = np.zeros((M, N))\n",
    "\n",
    "    for i in range(0, M):\n",
    "        diff     = X - np.tile(Y[i, :], (N, 1))\n",
    "        diff    = np.multiply(diff, diff)\n",
    "        P[i, :] = P[i, :] + np.sum(diff, axis=1)\n",
    "\n",
    "    P = np.exp(-P / (2 * sigma2))\n",
    "    den = np.sum(P, axis=0)\n",
    "    den = np.tile(den, (M, 1))\n",
    "    den[den==0] = np.finfo(float).eps\n",
    "\n",
    "    P = np.divide(P, den)\n",
    "    Pt1 = np.sum(P, axis=0)\n",
    "    P1  = np.sum(P, axis=1)\n",
    "    Np  = np.sum(P1)\n",
    "    \n",
    "    return P, Pt1, P1, Np"
   ]
  },
  {
   "cell_type": "code",
   "execution_count": 6,
   "metadata": {},
   "outputs": [],
   "source": [
    "def MStep(X, Y, P, P1, Np):\n",
    "    \n",
    "    D = Y.shape[1] # dimensionality of moving points\n",
    "    s, R, t, A, XX = updateTransform(X, Y, P, P1, Np)\n",
    "    sigma2 = updateVariance(R, A, XX, Np, D, s)\n",
    "    return R, t\n",
    "\n",
    "def updateTransform(X, Y, P, P1, Np):\n",
    "    \n",
    "    M = Y.shape[0] # number of moving points\n",
    "    D = Y.shape[1] # dimensionality of moving points\n",
    "    N = X.shape[0] # number of fixed points\n",
    "    \n",
    "    muX = np.divide(np.sum(np.dot(P, X), axis=0), Np)\n",
    "    muY = np.divide(np.sum(np.dot(np.transpose(P), Y), axis=0), Np)\n",
    "\n",
    "    XX = X - np.tile(muX, (N, 1))\n",
    "    YY = Y - np.tile(muY, (M, 1))\n",
    "\n",
    "    A = np.dot(np.transpose(XX), np.transpose(P))\n",
    "    A = np.dot(A, YY)\n",
    "\n",
    "    U, _, V = np.linalg.svd(A, full_matrices=True)\n",
    "    C = np.ones((D, ))\n",
    "    C[D-1] = np.linalg.det(np.dot(U, V))\n",
    "\n",
    "    R = np.dot(np.dot(U, np.diag(C)), V)\n",
    "\n",
    "    YPY = np.dot(np.transpose(P1), np.sum(np.multiply(YY, YY), axis=1))\n",
    "\n",
    "    s = np.trace(np.dot(np.transpose(A), R)) / YPY\n",
    "\n",
    "    t = np.transpose(muX) - s * np.dot(R, np.transpose(muY))\n",
    "    return s, R, t, A, XX\n",
    "\n",
    "def updateVariance(R, A, XX, Np, D, s):\n",
    "    \n",
    "    trAR = np.trace(np.dot(A, np.transpose(R)))\n",
    "    xPx = np.dot(np.transpose(Pt1), np.sum(np.multiply(XX, XX), axis =1))\n",
    "    sigma2 = (xPx - s * trAR) / (Np * D)\n",
    "    \n",
    "    return sigma2\n"
   ]
  },
  {
   "cell_type": "code",
   "execution_count": 7,
   "metadata": {},
   "outputs": [],
   "source": [
    "P, Pt1, P1, Np = EStep(X, Y, theta)"
   ]
  },
  {
   "cell_type": "code",
   "execution_count": 8,
   "metadata": {},
   "outputs": [],
   "source": [
    "R, t = MStep(X, Y, P, P1, Np)"
   ]
  },
  {
   "cell_type": "code",
   "execution_count": null,
   "metadata": {},
   "outputs": [],
   "source": []
  },
  {
   "cell_type": "code",
   "execution_count": null,
   "metadata": {},
   "outputs": [],
   "source": []
  },
  {
   "cell_type": "code",
   "execution_count": null,
   "metadata": {},
   "outputs": [],
   "source": []
  },
  {
   "cell_type": "code",
   "execution_count": null,
   "metadata": {},
   "outputs": [],
   "source": []
  }
 ],
 "metadata": {
  "kernelspec": {
   "display_name": "Python 2",
   "language": "python",
   "name": "python2"
  },
  "language_info": {
   "codemirror_mode": {
    "name": "ipython",
    "version": 2
   },
   "file_extension": ".py",
   "mimetype": "text/x-python",
   "name": "python",
   "nbconvert_exporter": "python",
   "pygments_lexer": "ipython2",
   "version": "2.7.17"
  }
 },
 "nbformat": 4,
 "nbformat_minor": 2
}
