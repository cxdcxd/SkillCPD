{
 "cells": [
  {
   "cell_type": "code",
   "execution_count": 1,
   "metadata": {},
   "outputs": [],
   "source": [
    "import sys\n",
    "sys.path.append(\"/home/hwpc03/workspace/ma-yang/est_reproduction_likelihood_without\")"
   ]
  },
  {
   "cell_type": "code",
   "execution_count": 2,
   "metadata": {},
   "outputs": [],
   "source": [
    "import os\n",
    "import math\n",
    "import numpy as np\n",
    "import matplotlib.pyplot as plt\n",
    "import pbdlib as pbd\n",
    "\n",
    "%matplotlib inline\n",
    "%load_ext autoreload\n",
    "%autoreload 2"
   ]
  },
  {
   "cell_type": "code",
   "execution_count": 3,
   "metadata": {},
   "outputs": [],
   "source": [
    "import random\n",
    "def DataProcessing(data):\n",
    "        data = np.array(data)\n",
    "        nsamples, nx, ny = data.shape\n",
    "        if nx > 200:                                                # delete randomly datapoints\n",
    "            index = random.sample(range(1,nx), nx-200)\n",
    "            demo_data = np.delete(data, index, axis=1)\n",
    "            demo_data_dim2 = demo_data.reshape((nsamples,-1))\n",
    "            return demo_data, demo_data_dim2\n",
    "        elif nx < 200:                                               # Interpolation\n",
    "            demo_data = []\n",
    "            for k in range(len(data)):\n",
    "                values = np.reshape(data[k],-1)\n",
    "                points = np.array([[i,j] for i in range(0, nx) for j in range(0, ny)])\n",
    "                grid_x, grid_y = np.mgrid[0:nx-1:200j, 0:ny-1:4j]\n",
    "                data_new = interpolate.griddata(points, values, (grid_x, grid_y), method='nearest')\n",
    "                demo_data.append(data_new)\n",
    "            demo_data = np.array(demo_data)\n",
    "            demo_data_dim2 = demo_data.reshape((nsamples,-1))\n",
    "            return demo_data, demo_data_dim2\n",
    "        else:\n",
    "            demo_data_dim2 = data.reshape((nsamples,-1))\n",
    "            return data, demo_data_dim2"
   ]
  },
  {
   "cell_type": "code",
   "execution_count": 4,
   "metadata": {},
   "outputs": [],
   "source": [
    "def separate_xdx(mydata_xdx):\n",
    "    mydata_x = []\n",
    "    mydata_dx = []\n",
    "    if np.array(mydata_xdx).ndim == 3:\n",
    "        for i in range(len(mydata_xdx)):\n",
    "            temp_x = []\n",
    "            temp_dx = []\n",
    "            for j in range(len(mydata_xdx[i])):\n",
    "                temp_x.append([mydata_xdx[i][j][0], mydata_xdx[i][j][1]])\n",
    "                temp_dx.append([mydata_xdx[i][j][2], mydata_xdx[i][j][3]])\n",
    "            temp_x1 = np.array(temp_x)\n",
    "            temp_dx1 = np.array(temp_dx)\n",
    "            mydata_x.append(temp_x1)\n",
    "            mydata_dx.append(temp_dx1)\n",
    "        return mydata_x, mydata_dx\n",
    "    elif np.array(mydata_xdx).ndim == 2:\n",
    "        temp_x = []\n",
    "        temp_dx = []\n",
    "        for i in range(len(mydata_xdx)):\n",
    "            temp_x.append([mydata_xdx[i][0], mydata_xdx[i][1]])\n",
    "            temp_dx.append([mydata_xdx[i][2], mydata_xdx[i][3]])\n",
    "        return temp_x, temp_dx\n",
    "    else:\n",
    "        print(\"Error! The dimension of data is neither 2 or 3\")"
   ]
  },
  {
   "cell_type": "code",
   "execution_count": 5,
   "metadata": {},
   "outputs": [],
   "source": [
    "def create_hsmm_data(demo_pred):\n",
    "    letter = demo_pred[0]\n",
    "    files = ['demo%s'%letter, 'demo%s1'%letter, 'demo%s2'%letter, 'demo%s3'%letter, 'demo%s4'%letter, 'demo%s5'%letter, 'demo%s6'%letter, 'demo%s7'%letter, 'demo%s8'%letter, 'demo%s9'%letter]\n",
    "    #files = ['demo%s'%letter, 'demo%s1'%letter, 'demo%s2'%letter, 'demo%s3'%letter, 'demo%s4'%letter]\n",
    "    files.pop(0)\n",
    "\n",
    "    train_data = np.load(\"./mydataset/demo%s.npy\"%letter, allow_pickle=True)\n",
    "    train_data = train_data.tolist()\n",
    "    train_data_xdx = [np.hstack([_x, _dx]) for _x ,_dx in zip(train_data['x'], train_data['dx'])]\n",
    "    demo_data, _ = DataProcessing(train_data_xdx)\n",
    "    for i in files:\n",
    "        mydata1 = np.load(\"./mydataset/%s.npy\"%i, allow_pickle=True)\n",
    "        mydata1 = mydata1.tolist()\n",
    "        mydata1_xdx = [np.hstack([_x, _dx]) for _x ,_dx in zip(mydata1['x'], mydata1['dx'])]\n",
    "        demo_data1, _ = DataProcessing(mydata1_xdx)\n",
    "        demo_data = np.vstack((demo_data,demo_data1))\n",
    "    return demo_data"
   ]
  },
  {
   "cell_type": "code",
   "execution_count": 6,
   "metadata": {},
   "outputs": [],
   "source": [
    "def cal_errors(demos, preds):\n",
    "    \n",
    "    demos_data = np.array(demos).mean(axis=0)\n",
    "    preds_data = np.array(preds).mean(axis=0)\n",
    "\n",
    "    errors = pow(demos_data-preds_data, 2)\n",
    "    errors = np.array([math.sqrt(pow(errors[0], 2) + pow(errors[1], 2))])\n",
    "    return errors"
   ]
  },
  {
   "cell_type": "code",
   "execution_count": 7,
   "metadata": {},
   "outputs": [],
   "source": [
    "def cal_distance(p1, p2):\n",
    "    return math.sqrt(pow((p2[0] - p1[0]), 2) + pow((p2[1] - p1[1]), 2))"
   ]
  },
  {
   "cell_type": "code",
   "execution_count": 8,
   "metadata": {},
   "outputs": [],
   "source": [
    "def cal_mse(demos, preds):\n",
    "    \n",
    "    mse = 0\n",
    "#     if len(demos) > 1:\n",
    "#         gt = np.array(demos).mean(axis = 0)\n",
    "#     else:\n",
    "#         gt = np.array(demos[0])\n",
    "\n",
    "    # Find the point of intersection\n",
    "    for i in range(len(demos)):\n",
    "        distance = cal_distance(demos[i], preds[i])\n",
    "        if distance != 0:\n",
    "            intersection = i\n",
    "            break\n",
    "        else:\n",
    "            continue\n",
    "\n",
    "    # Normalization and calculate average mean squared errors\n",
    "    if demos.shape[0] >= preds.shape[0]:\n",
    "        nx, _ = demos.shape\n",
    "        index = random.sample(range(intersection+1, nx), nx-preds.shape[0])\n",
    "        print(index)\n",
    "        demos_data = np.delete(demos, index, axis=0)\n",
    "        for i in range(len(preds)):\n",
    "            mse = mse + pow(preds[i]-demos_data[i], 2)\n",
    "        \n",
    "        mse = mse/len(preds)\n",
    "#       mse = np.array([math.sqrt(pow(mse[0], 2) + pow(mse[1], 2)), math.sqrt(pow(mse[2], 2) + pow(mse[3], 2))])\n",
    "        mse = np.array([math.sqrt(pow(mse[0], 2) + pow(mse[1], 2))])\n",
    "        return mse\n",
    "    elif demos.shape[0] < preds.shape[0]:\n",
    "        nx, _ = preds.shape\n",
    "        index = random.sample(range(intersection+1, nx), nx - demos.shape[0])\n",
    "        print(index)\n",
    "        preds_data = np.delete(preds, index, axis=0)\n",
    "        for i in range(len(demos)):\n",
    "            mse = mse + pow(preds[i]-demos[i], 2)\n",
    "        \n",
    "        mse = mse/len(preds)\n",
    "#       mse = np.array([math.sqrt(pow(mse[0], 2) + pow(mse[1], 2)), math.sqrt(pow(mse[2], 2) + pow(mse[3], 2))])\n",
    "        mse = np.array([math.sqrt(pow(mse[0], 2) + pow(mse[1], 2))])\n",
    "        return mse"
   ]
  },
  {
   "cell_type": "code",
   "execution_count": 9,
   "metadata": {},
   "outputs": [
    {
     "ename": "SyntaxError",
     "evalue": "invalid syntax (<ipython-input-9-7dd8b320e9e8>, line 1)",
     "output_type": "error",
     "traceback": [
      "\u001b[0;36m  File \u001b[0;32m\"<ipython-input-9-7dd8b320e9e8>\"\u001b[0;36m, line \u001b[0;32m1\u001b[0m\n\u001b[0;31m    G H B P K\u001b[0m\n\u001b[0m      ^\u001b[0m\n\u001b[0;31mSyntaxError\u001b[0m\u001b[0;31m:\u001b[0m invalid syntax\n"
     ]
    }
   ],
   "source": [
    "G H B P K"
   ]
  },
  {
   "cell_type": "code",
   "execution_count": 247,
   "metadata": {},
   "outputs": [
    {
     "data": {
      "image/png": "[encoded data removed]",
      "text/plain": [
       "<Figure size 432x288 with 1 Axes>"
      ]
     },
     "metadata": {
      "needs_background": "light"
     },
     "output_type": "display_data"
    }
   ],
   "source": [
    "demos = np.loadtxt('./Evaluation/C_demonstration_1.txt')\n",
    "plt.plot(demos[:,0], demos[:,1])\n",
    "plt.show()"
   ]
  },
  {
   "cell_type": "code",
   "execution_count": 248,
   "metadata": {},
   "outputs": [
    {
     "data": {
      "image/png": "[encoded data removed]",
      "text/plain": [
       "<Figure size 432x288 with 1 Axes>"
      ]
     },
     "metadata": {
      "needs_background": "light"
     },
     "output_type": "display_data"
    }
   ],
   "source": [
    "preds = np.load('./Evaluation/C_pred_1.npy', allow_pickle=True)\n",
    "plt.plot(preds[:,0], preds[:,1])\n",
    "plt.show()"
   ]
  },
  {
   "cell_type": "code",
   "execution_count": 249,
   "metadata": {},
   "outputs": [
    {
     "data": {
      "text/plain": [
       "(97, 2)"
      ]
     },
     "execution_count": 249,
     "metadata": {},
     "output_type": "execute_result"
    }
   ],
   "source": [
    "demos.shape"
   ]
  },
  {
   "cell_type": "code",
   "execution_count": 250,
   "metadata": {},
   "outputs": [
    {
     "data": {
      "text/plain": [
       "(152, 2)"
      ]
     },
     "execution_count": 250,
     "metadata": {},
     "output_type": "execute_result"
    }
   ],
   "source": [
    "preds.shape"
   ]
  },
  {
   "cell_type": "code",
   "execution_count": 251,
   "metadata": {},
   "outputs": [
    {
     "data": {
      "text/plain": [
       "41"
      ]
     },
     "execution_count": 251,
     "metadata": {},
     "output_type": "execute_result"
    }
   ],
   "source": [
    "for i in range(len(demos)):\n",
    "    distance = cal_distance(demos[i], preds[i])\n",
    "    if distance != 0:            \n",
    "        intersection = i\n",
    "        break\n",
    "    else:\n",
    "        continue\n",
    "\n",
    "intersection"
   ]
  },
  {
   "cell_type": "code",
   "execution_count": 252,
   "metadata": {},
   "outputs": [
    {
     "data": {
      "text/plain": [
       "0.0"
      ]
     },
     "execution_count": 252,
     "metadata": {},
     "output_type": "execute_result"
    }
   ],
   "source": [
    "cal_distance(demos[intersection-1], preds[intersection-1])"
   ]
  },
  {
   "cell_type": "code",
   "execution_count": 253,
   "metadata": {},
   "outputs": [
    {
     "name": "stdout",
     "output_type": "stream",
     "text": [
      "[125, 78, 131, 112, 45, 62, 135, 147, 140, 64, 96, 81, 93, 144, 87, 65, 44, 149, 72, 139, 85, 111, 89, 113, 101, 83, 90, 129, 107, 110, 46, 80, 52, 100, 86, 61, 108, 74, 73, 103, 106, 54, 99, 109, 60, 150, 145, 43, 94, 92, 68, 47, 63, 146, 142]\n"
     ]
    },
    {
     "data": {
      "text/plain": [
       "array([2922.78])"
      ]
     },
     "execution_count": 253,
     "metadata": {},
     "output_type": "execute_result"
    }
   ],
   "source": [
    "cal_mse(demos, preds)"
   ]
  },
  {
   "cell_type": "code",
   "execution_count": 254,
   "metadata": {},
   "outputs": [
    {
     "data": {
      "text/plain": [
       "array([194.53])"
      ]
     },
     "execution_count": 254,
     "metadata": {},
     "output_type": "execute_result"
    }
   ],
   "source": [
    "cal_errors(demos, preds)"
   ]
  },
  {
   "cell_type": "code",
   "execution_count": 237,
   "metadata": {},
   "outputs": [
    {
     "data": {
      "text/plain": [
       "246.83666666666667"
      ]
     },
     "execution_count": 237,
     "metadata": {},
     "output_type": "execute_result"
    }
   ],
   "source": [
    "(2.66+689.61+48.24)/3"
   ]
  },
  {
   "cell_type": "code",
   "execution_count": null,
   "metadata": {},
   "outputs": [],
   "source": []
  },
  {
   "cell_type": "code",
   "execution_count": null,
   "metadata": {},
   "outputs": [],
   "source": []
  },
  {
   "cell_type": "code",
   "execution_count": null,
   "metadata": {},
   "outputs": [],
   "source": []
  },
  {
   "cell_type": "code",
   "execution_count": null,
   "metadata": {},
   "outputs": [],
   "source": [
    "data = np.load('./mydataset/myD_part_without.npy', allow_pickle=True)\n",
    "data = data.tolist()\n",
    "data = [np.hstack([_x, _dx]) for _x ,_dx in zip(data['x'], data['dx'])]\n",
    "data, _ = separate_xdx(data)\n",
    "data = np.array(data)"
   ]
  },
  {
   "cell_type": "code",
   "execution_count": null,
   "metadata": {},
   "outputs": [],
   "source": [
    "data_part = []\n",
    "for i in range(len(data)):\n",
    "    if data[i][0] >= 60:\n",
    "        data_part.append(data[i])"
   ]
  },
  {
   "cell_type": "code",
   "execution_count": null,
   "metadata": {},
   "outputs": [],
   "source": [
    "plt.plot(data_part[:,0], data_part[:,1])\n",
    "plt.show()"
   ]
  },
  {
   "cell_type": "code",
   "execution_count": null,
   "metadata": {},
   "outputs": [],
   "source": [
    "cal_error(prediction, data_part)"
   ]
  }
 ],
 "metadata": {
  "kernelspec": {
   "display_name": "Python 2",
   "language": "python",
   "name": "python2"
  },
  "language_info": {
   "codemirror_mode": {
    "name": "ipython",
    "version": 2
   },
   "file_extension": ".py",
   "mimetype": "text/x-python",
   "name": "python",
   "nbconvert_exporter": "python",
   "pygments_lexer": "ipython2",
   "version": "2.7.17"
  }
 },
 "nbformat": 4,
 "nbformat_minor": 2
}
